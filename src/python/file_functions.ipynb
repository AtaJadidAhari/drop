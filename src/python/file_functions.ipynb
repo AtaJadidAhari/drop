{
 "cells": [
  {
   "cell_type": "code",
   "execution_count": 1,
   "metadata": {},
   "outputs": [
    {
     "ename": "NameError",
     "evalue": "name 'config' is not defined",
     "output_type": "error",
     "traceback": [
      "\u001b[0;31m---------------------------------------------------------------------------\u001b[0m",
      "\u001b[0;31mNameError\u001b[0m                                 Traceback (most recent call last)",
      "\u001b[0;32m<ipython-input-1-1c8f6aec98f8>\u001b[0m in \u001b[0;36m<module>\u001b[0;34m\u001b[0m\n\u001b[1;32m      1\u001b[0m \u001b[0;32mimport\u001b[0m \u001b[0mos\u001b[0m\u001b[0;34m\u001b[0m\u001b[0;34m\u001b[0m\u001b[0m\n\u001b[0;32m----> 2\u001b[0;31m \u001b[0;32mimport\u001b[0m \u001b[0mconfig_parser\u001b[0m\u001b[0;34m\u001b[0m\u001b[0;34m\u001b[0m\u001b[0m\n\u001b[0m",
      "\u001b[0;32m/data/nasif12/home_if12/mumichae/Documents/workspace/Genetic_Diagnosis_Pipeline/genetic_diagnosis_modified/src/python/config_parser.py\u001b[0m in \u001b[0;36m<module>\u001b[0;34m\u001b[0m\n\u001b[1;32m     26\u001b[0m \u001b[0;34m\u001b[0m\u001b[0m\n\u001b[1;32m     27\u001b[0m \u001b[0;34m\u001b[0m\u001b[0m\n\u001b[0;32m---> 28\u001b[0;31m \u001b[0;32mdef\u001b[0m \u001b[0mall_vcf\u001b[0m\u001b[0;34m(\u001b[0m\u001b[0msa_file\u001b[0m \u001b[0;34m=\u001b[0m \u001b[0mconfig\u001b[0m\u001b[0;34m[\u001b[0m\u001b[0;34m\"SAMPLE_ANNOTATION\"\u001b[0m\u001b[0;34m]\u001b[0m\u001b[0;34m)\u001b[0m\u001b[0;34m:\u001b[0m\u001b[0;34m\u001b[0m\u001b[0;34m\u001b[0m\u001b[0m\n\u001b[0m\u001b[1;32m     29\u001b[0m \u001b[0;34m\u001b[0m\u001b[0m\n\u001b[1;32m     30\u001b[0m     \u001b[0manno\u001b[0m \u001b[0;34m=\u001b[0m \u001b[0mpd\u001b[0m\u001b[0;34m.\u001b[0m\u001b[0mread_csv\u001b[0m\u001b[0;34m(\u001b[0m\u001b[0msa_file\u001b[0m\u001b[0;34m,\u001b[0m \u001b[0msep\u001b[0m\u001b[0;34m=\u001b[0m\u001b[0;34m'\\t'\u001b[0m\u001b[0;34m)\u001b[0m\u001b[0;34m\u001b[0m\u001b[0;34m\u001b[0m\u001b[0m\n",
      "\u001b[0;31mNameError\u001b[0m: name 'config' is not defined"
     ]
    }
   ],
   "source": [
    "import os\n",
    "import config_parser"
   ]
  },
  {
   "cell_type": "code",
   "execution_count": 3,
   "metadata": {},
   "outputs": [],
   "source": [
    "import yaml\n",
    "import pandas as pd"
   ]
  },
  {
   "cell_type": "code",
   "execution_count": 4,
   "metadata": {},
   "outputs": [
    {
     "name": "stdout",
     "output_type": "stream",
     "text": [
      "{'webDir': '/s/public_webshare/project/genetic_diagnosis', 'projectTitle': 'Genetic diagnosis of Mendelian disorders', 'htmlOutputPath': 'Output/html', 'rawdir_proteome': '/s/project/mitoMultiOmics/raw_data/proteome', 'PROC_DATA': '/s/project/genetic_diagnosis/processed_data', 'PROC_RESULTS': '/s/project/genetic_diagnosis/processed_results', 'RAW_DATA': 'Data/helmholtz', 'RAWDATADIR': 'Data/helmholtz', 'VEPDATADIR': '/s/project/metaIBD/vepAnnoObj/sampleObj', 'SANITYCHECKDIR': '/s/project/mitoMultiOmics/sanitychecks', 'SAMPLE_ANNOTATION': '/s/project/mitoMultiOmics/raw_data/sample_info/SAMPLE_ANNOTATION_PROKISCH.tsv', 'ANNOTATIONS': ['v29_overlap'], 'VEP_VERSION': 94, 'INTER_FEATURE': [0], 'fpkmCutoff': 1}\n"
     ]
    }
   ],
   "source": [
    "with open(\"../../wbuild.yaml\", 'r') as stream:\n",
    "    config = yaml.safe_load(stream)\n",
    "print(config)"
   ]
  },
  {
   "cell_type": "code",
   "execution_count": null,
   "metadata": {},
   "outputs": [],
   "source": [
    "def outrider_files(config):\n",
    "\n",
    "    # sample-file mapping\n",
    "    # file \n",
    "    sa_file = config[\"SAMPLE_ANNOTATION\"]\n",
    "    \n",
    "    anno = pd.read_csv(sa_file, sep='\\t')\n",
    "    \n",
    "    # subset and clean\n",
    "    anno_outrider = anno[(anno.LAB == \"PROKISCH\") & pd.notnull(anno.RNA_ID) & pd.notnull(anno.OUTRIDER_GROUP)]\n",
    "    anno_outrider = anno_outrider[[\"RNA_ID\", \"OUTRIDER_GROUP\"]].drop_duplicates().copy()\n",
    "\n",
    "    # create filenames and ignore missing files\n",
    "    anno_outrider['file'] = [config[\"RAW_DATA\"] + \"/\" + x + \"/RNAout/\" for x in anno_outrider[\"RNA_ID\"]]\n",
    "    anno_outrider['file_exists'] = [os.path.exists(x) for x in anno_outrider[\"file\"]]\n",
    "    anno_outrider = anno_outrider[anno_outrider['file_exists']]\n",
    "\n",
    "    # subset by OUTRIDER_GROUP\n",
    "    outrider_groups = []\n",
    "    for s in set(anno_outrider.OUTRIDER_GROUP):\n",
    "        outrider_groups.extend(s.split(','))\n",
    "    outrider_ids = {og : anno_outrider.loc[anno_outrider.OUTRIDER_GROUP.str.contains('(^|,)' + og + '(,|$)'), 'RNA_ID'].tolist() for og in set(outrider_groups)}\n",
    "    return outrider_ids, {og: _list for og, _list in outrider_ids.items() if len(_list) > 40}"
   ]
  },
  {
   "cell_type": "code",
   "execution_count": null,
   "metadata": {},
   "outputs": [],
   "source": [
    "if sa_file is None:\n",
    "        sa_file = config[\"SAMPLE_ANNOTATION\"]\n",
    "    \n",
    "    anno = pd.read_csv(sa_file, sep='\\t')"
   ]
  },
  {
   "cell_type": "code",
   "execution_count": 2,
   "metadata": {},
   "outputs": [],
   "source": [
    "def get_files_by_group(config, group):\n",
    "    return expand(config[\"PROC_RESULTS\"] + \"/{{annotation}}/counts/{sampleID}.Rds\", sampleID=config[\"outrider\"][group])"
   ]
  },
  {
   "cell_type": "code",
   "execution_count": null,
   "metadata": {},
   "outputs": [],
   "source": [
    "def all_vcf(sa_file = config[\"SAMPLE_ANNOTATION\"]):\n",
    "\n",
    "    anno = pd.read_csv(sa_file, sep='\\t')\n",
    "    \n",
    "    # subset and clean\n",
    "    anno_vcf = anno[(anno.LAB == \"PROKISCH\") & pd.notnull(anno.EXOME_ID)]\n",
    "    anno_vcf = anno_vcf[[\"EXOME_ID\"]].copy()\n",
    "    anno_vcf['file'] = [config[\"RAW_DATA\"] + \"/\" + x + \"/exomicout/\" for x in anno_vcf[\"EXOME_ID\"]]\n",
    "    anno_vcf['vcf_exists'] = [os.path.exists(x) for x in anno_vcf[\"file\"]]\n",
    "    anno_vcf = anno_vcf[anno_vcf['vcf_exists']]\n",
    "    \n",
    "    return anno_vcf[\"EXOME_ID\"].tolist()"
   ]
  },
  {
   "cell_type": "code",
   "execution_count": null,
   "metadata": {},
   "outputs": [],
   "source": [
    "def mae_files(sa_file = config[\"SAMPLE_ANNOTATION\"]):\n",
    "    \n",
    "    anno = pd.read_csv(sa_file, sep='\\t')\n",
    "    \n",
    "    # subset and clean\n",
    "    anno_mae = anno[anno[\"LAB\"] == \"PROKISCH\"]\n",
    "    anno_mae = anno_mae[pd.notnull(anno_mae.EXOME_ID)]\n",
    "    anno_mae = anno_mae[pd.notnull(anno_mae.RNA_ID)]\n",
    "    anno_mae = anno_mae[[\"EXOME_ID\", \"RNA_ID\"]].copy()\n",
    "\n",
    "    # create file names\n",
    "    # anno_mae['rna_file'] = [config[\"RAW_DATA\"] + \"/\" + x + \"/RNAout/paired-endout/stdFilenames/\" + x + \".bam\" for x in anno_mae[\"RNA_ID\"]]\n",
    "    # anno_mae['vcf_file'] = [config[\"RAW_DATA\"] + \"/\" + x + \"/exomicout/paired-endout/stdFilenames/\" + x + \".vcf.gz\" for x in anno_mae[\"EXOME_ID\"]]\n",
    "    \n",
    "    anno_mae['rna_file'] = [config[\"RAW_DATA\"] + \"/\" + x + \"/RNAout\" for x in anno_mae[\"RNA_ID\"]]\n",
    "    anno_mae['vcf_file'] = [config[\"RAW_DATA\"] + \"/\" + x + \"/exomicout\" for x in anno_mae[\"EXOME_ID\"]]\n",
    "\n",
    "    # check for missing files\n",
    "    anno_mae['vcf_exists'] = [os.path.exists(x) for x in anno_mae[\"vcf_file\"]]\n",
    "    anno_mae['rna_exists'] = [os.path.exists(x) for x in anno_mae[\"rna_file\"]]\n",
    "    anno_mae = anno_mae[anno_mae['vcf_exists'] & anno_mae['rna_exists']]\n",
    "    \n",
    "    vcf = anno_mae[\"EXOME_ID\"] \n",
    "    rna = anno_mae[\"RNA_ID\"]\n",
    "    "
   ]
  },
  {
   "cell_type": "code",
   "execution_count": null,
   "metadata": {},
   "outputs": [],
   "source": [
    "def "
   ]
  },
  {
   "cell_type": "code",
   "execution_count": null,
   "metadata": {},
   "outputs": [],
   "source": []
  }
 ],
 "metadata": {
  "kernelspec": {
   "display_name": "Python 3",
   "language": "python",
   "name": "python3"
  },
  "language_info": {
   "codemirror_mode": {
    "name": "ipython",
    "version": 3
   },
   "file_extension": ".py",
   "mimetype": "text/x-python",
   "name": "python",
   "nbconvert_exporter": "python",
   "pygments_lexer": "ipython3",
   "version": "3.6.8"
  }
 },
 "nbformat": 4,
 "nbformat_minor": 2
}
