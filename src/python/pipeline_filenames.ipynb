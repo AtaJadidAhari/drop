{
 "cells": [
  {
   "cell_type": "code",
   "execution_count": 8,
   "metadata": {},
   "outputs": [],
   "source": [
    "import pandas as pd\n",
    "import os\n",
    "import numpy as np\n",
    "import pprint"
   ]
  },
  {
   "cell_type": "code",
   "execution_count": 2,
   "metadata": {},
   "outputs": [],
   "source": [
    "anno = pd.read_csv(\"../../../sample_annotation/Data/sample_annotation.tsv\", sep='\\t')"
   ]
  },
  {
   "cell_type": "code",
   "execution_count": 3,
   "metadata": {},
   "outputs": [
    {
     "data": {
      "text/plain": [
       "'100416'"
      ]
     },
     "execution_count": 3,
     "metadata": {},
     "output_type": "execute_result"
    }
   ],
   "source": [
    "# print(anno['FIBROBLAST_ID'])\n",
    "# anno.iloc[1]\n",
    "anno.loc[1,\"FIBROBLAST_ID\"]"
   ]
  },
  {
   "cell_type": "code",
   "execution_count": 4,
   "metadata": {},
   "outputs": [],
   "source": [
    "anno_mae = anno[anno[\"LAB\"] == \"PROKISCH\"] "
   ]
  },
  {
   "cell_type": "code",
   "execution_count": 5,
   "metadata": {},
   "outputs": [
    {
     "data": {
      "text/plain": [
       "(1268, 53)"
      ]
     },
     "execution_count": 5,
     "metadata": {},
     "output_type": "execute_result"
    }
   ],
   "source": [
    "np.unique(anno_mae[\"LAB\"])\n",
    "anno_mae.shape"
   ]
  },
  {
   "cell_type": "code",
   "execution_count": 6,
   "metadata": {},
   "outputs": [],
   "source": [
    "#np.isnan(anno_mae.EXOME_ID)\n",
    "anno_mae = anno_mae[pd.notnull(anno_mae.EXOME_ID)]\n",
    "anno_mae = anno_mae[pd.notnull(anno_mae.RNA_ID)]"
   ]
  },
  {
   "cell_type": "code",
   "execution_count": 7,
   "metadata": {},
   "outputs": [
    {
     "data": {
      "text/plain": [
       "(284, 53)"
      ]
     },
     "execution_count": 7,
     "metadata": {},
     "output_type": "execute_result"
    }
   ],
   "source": [
    "anno_mae.shape"
   ]
  },
  {
   "cell_type": "code",
   "execution_count": 8,
   "metadata": {},
   "outputs": [],
   "source": [
    "anno_mae = anno_mae[[\"EXOME_ID\", \"RNA_ID\"]]"
   ]
  },
  {
   "cell_type": "code",
   "execution_count": 9,
   "metadata": {},
   "outputs": [],
   "source": [
    "anno_mae['rna_file'] = [\"/s/project/mitoMultiOmics/raw_data/helmholtz/\" + x + \"/RNAout/paired-endout/stdFilenames/\" + x + \".bam\" for x in anno_mae[\"RNA_ID\"]]"
   ]
  },
  {
   "cell_type": "code",
   "execution_count": 10,
   "metadata": {},
   "outputs": [],
   "source": [
    "anno_mae['vcf_file'] = [\"/s/project/mitoMultiOmics/raw_data/helmholtz/\" + x + \"/exomicout/paired-endout/stdFilenames/\" + x + \".vcf.gz\" for x in anno_mae[\"EXOME_ID\"]]"
   ]
  },
  {
   "cell_type": "code",
   "execution_count": 12,
   "metadata": {},
   "outputs": [],
   "source": [
    "# anno_mae[\"vcf_file\"]\n",
    "anno_mae['vcf_exists'] = [os.path.exists(x) for x in anno_mae[\"vcf_file\"]]\n",
    "anno_mae['rna_exists'] = [os.path.exists(x) for x in anno_mae[\"rna_file\"]]\n",
    "anno_mae = anno_mae[anno_mae['vcf_exists'] & anno_mae['rna_exists']]"
   ]
  },
  {
   "cell_type": "code",
   "execution_count": 13,
   "metadata": {},
   "outputs": [
    {
     "data": {
      "text/plain": [
       "['mae/92582-100634R.Rds',\n",
       " 'mae/89108-101401R.Rds',\n",
       " 'mae/85030-101676R.Rds',\n",
       " 'mae/EXT_JAP_PT1298-102384R.Rds',\n",
       " 'mae/EXT_JAP_PT1315-102385R.Rds',\n",
       " 'mae/EXT_JAP_PT1320-102386R.Rds',\n",
       " 'mae/EXT_JAP_PT1322-102387R.Rds',\n",
       " 'mae/EXT_JAP_PT1342-102388R.Rds',\n",
       " 'mae/EXT_JAP_PT1396-102389R.Rds',\n",
       " 'mae/EXT_JAP_PT1433-102390R.Rds',\n",
       " 'mae/EXT_JAP_PT1455-102391R.Rds',\n",
       " 'mae/EXT_JAP_PT1475-102392R.Rds',\n",
       " 'mae/EXT_JAP_PT322-102393R.Rds',\n",
       " 'mae/EXT_JAP_PT1237-102860R.Rds',\n",
       " 'mae/EXT_JAP_PT1265-102864R.Rds',\n",
       " 'mae/EXT_JAP_PT1278-102874R.Rds',\n",
       " 'mae/EXT_JAP_PT1283-102875R.Rds',\n",
       " 'mae/EXT_JAP_PT1297-102876R.Rds',\n",
       " 'mae/55567-102949R.Rds',\n",
       " 'mae/55563-102950R.Rds',\n",
       " 'mae/75148-102951R.Rds',\n",
       " 'mae/55570-102952R.Rds',\n",
       " 'mae/EXT_JAP_PT1173-103027R.Rds',\n",
       " 'mae/EXT_JAP_PT008-103165R.Rds',\n",
       " 'mae/EXT_JAP_PT162-103170R.Rds',\n",
       " 'mae/EXT_JAP_PT183-103172R.Rds',\n",
       " 'mae/EXT_JAP_PT201-103173R.Rds',\n",
       " 'mae/EXT_JAP_PT284-103174R.Rds',\n",
       " 'mae/EXT_JAP_PT290-103175R.Rds',\n",
       " 'mae/EXT_JAP_PT472-103180R.Rds',\n",
       " 'mae/EXT_JAP_PT487-103182R.Rds',\n",
       " 'mae/EXT_JAP_PT631-103190R.Rds',\n",
       " 'mae/EXT_JAP_PT639-103192R.Rds',\n",
       " 'mae/EXT_JAP_PT713-103198R.Rds',\n",
       " 'mae/EXT_JAP_PT722-103199R.Rds',\n",
       " 'mae/EXT_JAP_PT723-103200R.Rds',\n",
       " 'mae/EXT_JAP_PT766-103203R.Rds',\n",
       " 'mae/EXT_JAP_PT875-103207R.Rds',\n",
       " 'mae/EXT_JAP_PT947-103209R.Rds',\n",
       " 'mae/EXT_JAP_PT966-103210R.Rds',\n",
       " 'mae/EXT_JAP_PT984-103213R.Rds',\n",
       " 'mae/EXT_JAP_PT984-111664R.Rds',\n",
       " 'mae/EXT_JAP_PT984-111666R.Rds',\n",
       " 'mae/EXT_JAP_PT1002-103214R.Rds',\n",
       " 'mae/EXT_JAP_PT1002-111681R.Rds',\n",
       " 'mae/EXT_JAP_PT1002-111682R.Rds',\n",
       " 'mae/EXT_JAP_PT1009-103216R.Rds',\n",
       " 'mae/EXT_JAP_PT1009-111668R.Rds',\n",
       " 'mae/EXT_JAP_PT1009-111669R.Rds',\n",
       " 'mae/EXT_JAP_PT1023-103217R.Rds',\n",
       " 'mae/EXT_JAP_PT1050-103219R.Rds',\n",
       " 'mae/EXT_JAP_PT1084-103221R.Rds',\n",
       " 'mae/EXT_JAP_PT1084-111670R.Rds',\n",
       " 'mae/EXT_JAP_PT1084-111671R.Rds',\n",
       " 'mae/EXT_JAP_PT1094-103223R.Rds',\n",
       " 'mae/EXT_JAP_PT1109-103225R.Rds',\n",
       " 'mae/EXT_JAP_PT1146-103229R.Rds',\n",
       " 'mae/EXT_JAP_PT1152-103230R.Rds',\n",
       " 'mae/EXT_JAP_PT1156-103231R.Rds',\n",
       " 'mae/EXT_JAP_PT1157-103232R.Rds',\n",
       " 'mae/EXT_JAP_PT1180-103234R.Rds',\n",
       " 'mae/EXT_JAP_PT1246-103239R.Rds',\n",
       " 'mae/87960-104982R.Rds',\n",
       " 'mae/95265-105251R.Rds',\n",
       " 'mae/106196-105896R.Rds',\n",
       " 'mae/33254-33254R.Rds',\n",
       " 'mae/33254-MUC1342.Rds',\n",
       " 'mae/33281-33281R.Rds',\n",
       " 'mae/33281-MUC1343.Rds',\n",
       " 'mae/33284-76631.Rds',\n",
       " 'mae/35791-MUC1344.Rds',\n",
       " 'mae/37796-MUC1345.Rds',\n",
       " 'mae/49665-74172.Rds',\n",
       " 'mae/46072-MUC2202.Rds',\n",
       " 'mae/51980-76634.Rds',\n",
       " 'mae/51969-76623.Rds',\n",
       " 'mae/54485-MUC1347.Rds',\n",
       " 'mae/54604-77158R.Rds',\n",
       " 'mae/54604-MUC1348.Rds',\n",
       " 'mae/56711-MUC1349.Rds',\n",
       " 'mae/56711-MUC2220.Rds',\n",
       " 'mae/57415-57415.Rds',\n",
       " 'mae/57415-70476.Rds',\n",
       " 'mae/57415-76628.Rds',\n",
       " 'mae/57415-70478.Rds',\n",
       " 'mae/50845-76630.Rds',\n",
       " 'mae/60702-MUC1350.Rds',\n",
       " 'mae/60471-MUC1351.Rds',\n",
       " 'mae/50898-76622.Rds',\n",
       " 'mae/57183-MUC1352.Rds',\n",
       " 'mae/56953-76626.Rds',\n",
       " 'mae/54826-76636.Rds',\n",
       " 'mae/54830-61695.Rds',\n",
       " 'mae/46072-76624.Rds',\n",
       " 'mae/46072-MUC1434.Rds',\n",
       " 'mae/61982-61982.Rds',\n",
       " 'mae/61982-70479.Rds',\n",
       " 'mae/61998-MUC1353.Rds',\n",
       " 'mae/62000-MUC1354.Rds',\n",
       " 'mae/62001-MUC1355.Rds',\n",
       " 'mae/62004-MUC1356.Rds',\n",
       " 'mae/62007-MUC1357.Rds',\n",
       " 'mae/62335-MUC1358.Rds',\n",
       " 'mae/62339-MUC1359.Rds',\n",
       " 'mae/62344-MUC1360.Rds',\n",
       " 'mae/62346-MUC1361.Rds',\n",
       " 'mae/63045-MUC1362.Rds',\n",
       " 'mae/63631-MUC2237.Rds',\n",
       " 'mae/64335-MUC1363.Rds',\n",
       " 'mae/65125-MUC1364.Rds',\n",
       " 'mae/66654-MUC2212.Rds',\n",
       " 'mae/66744-MUC1365.Rds',\n",
       " 'mae/66746-MUC1366.Rds',\n",
       " 'mae/67330-MUC1367.Rds',\n",
       " 'mae/66822-76627.Rds',\n",
       " 'mae/74962-MUC1368.Rds',\n",
       " 'mae/68540-MUC1369.Rds',\n",
       " 'mae/68544-MUC1370.Rds',\n",
       " 'mae/68546-MUC1371.Rds',\n",
       " 'mae/68547-MUC1372.Rds',\n",
       " 'mae/68558-MUC1373.Rds',\n",
       " 'mae/68607-MUC1374.Rds',\n",
       " 'mae/68891-76629.Rds',\n",
       " 'mae/73385-MUC2232.Rds',\n",
       " 'mae/69340-MUC1375.Rds',\n",
       " 'mae/69801-MUC1376.Rds',\n",
       " 'mae/66754-76625.Rds',\n",
       " 'mae/49906-76635.Rds',\n",
       " 'mae/49906-MUC1417.Rds',\n",
       " 'mae/71896-MUC2215.Rds',\n",
       " 'mae/63041-72748.Rds',\n",
       " 'mae/72903-MUC1390.Rds',\n",
       " 'mae/73388-MUC1391.Rds',\n",
       " 'mae/73466-MUC1392.Rds',\n",
       " 'mae/71246-MUC2201.Rds',\n",
       " 'mae/73804-MUC1396.Rds',\n",
       " 'mae/73805-MUC1397.Rds',\n",
       " 'mae/63138-76632.Rds',\n",
       " 'mae/65269-76633.Rds',\n",
       " 'mae/65269-MUC1415.Rds',\n",
       " 'mae/74116-MUC1398.Rds',\n",
       " 'mae/74114-MUC1399.Rds',\n",
       " 'mae/74118-MUC1400.Rds',\n",
       " 'mae/63225-76637.Rds',\n",
       " 'mae/57337-76638.Rds',\n",
       " 'mae/75566-MUC1401.Rds',\n",
       " 'mae/75567-MUC1378.Rds',\n",
       " 'mae/67007-MUC1379.Rds',\n",
       " 'mae/67007-MUC1431.Rds',\n",
       " 'mae/67007-MUC1433.Rds',\n",
       " 'mae/60275-MUC1380.Rds',\n",
       " 'mae/67530-MUC1381.Rds',\n",
       " 'mae/67524-MUC1382.Rds',\n",
       " 'mae/67524-MUC1437.Rds',\n",
       " 'mae/67524-MUC1386.Rds',\n",
       " 'mae/67524-MUC1389.Rds',\n",
       " 'mae/63045-MUC2210.Rds',\n",
       " 'mae/77012-MUC1383.Rds',\n",
       " 'mae/57326-MUC1402.Rds',\n",
       " 'mae/54285-MUC1403.Rds',\n",
       " 'mae/65990-MUC1404.Rds',\n",
       " 'mae/76294-MUC1413.Rds',\n",
       " 'mae/80856-MUC1414.Rds',\n",
       " 'mae/80858-MUC1416.Rds',\n",
       " 'mae/80860-MUC1418.Rds',\n",
       " 'mae/80861-MUC1419.Rds',\n",
       " 'mae/80862-MUC1420.Rds',\n",
       " 'mae/80863-MUC1421.Rds',\n",
       " 'mae/80864-MUC1422.Rds',\n",
       " 'mae/80866-MUC1424.Rds',\n",
       " 'mae/80867-MUC1425.Rds',\n",
       " 'mae/80868-MUC1426.Rds',\n",
       " 'mae/80869-MUC1427.Rds',\n",
       " 'mae/80870-MUC1428.Rds',\n",
       " 'mae/62524-MUC1405.Rds',\n",
       " 'mae/62807-MUC1406.Rds',\n",
       " 'mae/69378-MUC1407.Rds',\n",
       " 'mae/62631-MUC1408.Rds',\n",
       " 'mae/71724-MUC1409.Rds',\n",
       " 'mae/81311-MUC2213.Rds',\n",
       " 'mae/74436-MUC0489.Rds',\n",
       " 'mae/74436-MUC0490.Rds',\n",
       " 'mae/74436-MUC0491.Rds',\n",
       " 'mae/74436-MUC0493.Rds',\n",
       " 'mae/74436-MUC0494.Rds',\n",
       " 'mae/74436-MUC0495.Rds',\n",
       " 'mae/74436-MUC0498.Rds',\n",
       " 'mae/74436-MUC0499.Rds',\n",
       " 'mae/77301-MUC2205.Rds',\n",
       " 'mae/85152-MUC1411.Rds',\n",
       " 'mae/85153-MUC1384.Rds',\n",
       " 'mae/85153-MUC1387.Rds',\n",
       " 'mae/85154-MUC1412.Rds',\n",
       " 'mae/74748-MUC2204.Rds',\n",
       " 'mae/86317-MUC2211.Rds',\n",
       " 'mae/86318-MUC2209.Rds',\n",
       " 'mae/80500-MUC2219.Rds',\n",
       " 'mae/80457-MUC2203.Rds',\n",
       " 'mae/88550-MUC2222.Rds',\n",
       " 'mae/71806-MUC1435.Rds',\n",
       " 'mae/89957-MUC2207.Rds',\n",
       " 'mae/68758-MUC2208.Rds',\n",
       " 'mae/91801-MUC2223.Rds',\n",
       " 'mae/76658-MUC2216.Rds',\n",
       " 'mae/76611-MUC2217.Rds',\n",
       " 'mae/96988-MUC2225.Rds',\n",
       " 'mae/96989-MUC2224.Rds',\n",
       " 'mae/96991-MUC2227.Rds',\n",
       " 'mae/96992-MUC2226.Rds',\n",
       " 'mae/96993-MUC2229.Rds',\n",
       " 'mae/96994-MUC2228.Rds',\n",
       " 'mae/96995-MUC2231.Rds',\n",
       " 'mae/96996-MUC2230.Rds',\n",
       " 'mae/56544-97810R.Rds',\n",
       " 'mae/53890-98521R.Rds',\n",
       " 'mae/EXT_WAR_001-99291R.Rds',\n",
       " 'mae/EXT_WAR_002-99292R.Rds',\n",
       " 'mae/EXT_WAR_003-99293R.Rds',\n",
       " 'mae/EXT_WAR_005-99294R.Rds',\n",
       " 'mae/EXT_WAR_006-99295R.Rds',\n",
       " 'mae/EXT_WAR_007-99296R.Rds',\n",
       " 'mae/EXT_WAR_008-99297R.Rds',\n",
       " 'mae/EXT_WAR_009-99298R.Rds',\n",
       " 'mae/EXT_WAR_010-99299R.Rds',\n",
       " 'mae/EXT_WAR_011-99300R.Rds',\n",
       " 'mae/99301-99301R.Rds',\n",
       " 'mae/99302-99302R.Rds',\n",
       " 'mae/99303-99303R.Rds',\n",
       " 'mae/99304-99304R.Rds',\n",
       " 'mae/99305-99305R.Rds',\n",
       " 'mae/99306-99306R.Rds',\n",
       " 'mae/99307-99307R.Rds']"
      ]
     },
     "execution_count": 13,
     "metadata": {},
     "output_type": "execute_result"
    }
   ],
   "source": [
    "('mae/' + anno_mae[\"EXOME_ID\"] + '-' + anno_mae[\"RNA_ID\"] + '.Rds').tolist()"
   ]
  },
  {
   "cell_type": "markdown",
   "metadata": {},
   "source": [
    "## Complete Function"
   ]
  },
  {
   "cell_type": "code",
   "execution_count": 9,
   "metadata": {},
   "outputs": [],
   "source": [
    "def mae_files(anno):\n",
    "    \n",
    "    # subset and clean\n",
    "    anno_mae = anno[anno[\"LAB\"] == \"PROKISCH\"]\n",
    "    anno_mae = anno_mae[pd.notnull(anno_mae.EXOME_ID)]\n",
    "    anno_mae = anno_mae[pd.notnull(anno_mae.RNA_ID)]\n",
    "    anno_mae = anno_mae[[\"EXOME_ID\", \"RNA_ID\"]]\n",
    "\n",
    "    # create file names\n",
    "    anno_mae['rna_file'] = [\"/s/project/mitoMultiOmics/raw_data/helmholtz/\" + x + \"/RNAout/paired-endout/stdFilenames/\" + x + \".bam\" for x in anno_mae[\"RNA_ID\"]]\n",
    "    anno_mae['vcf_file'] = [\"/s/project/mitoMultiOmics/raw_data/helmholtz/\" + x + \"/exomicout/paired-endout/stdFilenames/\" + x + \".vcf.gz\" for x in anno_mae[\"EXOME_ID\"]]\n",
    "\n",
    "    # check for missing files\n",
    "    anno_mae['vcf_exists'] = [os.path.exists(x) for x in anno_mae[\"vcf_file\"]]\n",
    "    anno_mae['rna_exists'] = [os.path.exists(x) for x in anno_mae[\"rna_file\"]]\n",
    "    anno_mae = anno_mae[anno_mae['vcf_exists'] & anno_mae['rna_exists']]\n",
    "    \n",
    "    vcf = anno_mae[\"EXOME_ID\"] \n",
    "    rna = anno_mae[\"RNA_ID\"]\n",
    "    \n",
    "    return vcf.tolist(), rna.tolist()"
   ]
  },
  {
   "cell_type": "code",
   "execution_count": 10,
   "metadata": {},
   "outputs": [],
   "source": [
    "vcf, rna = mae_files(anno)"
   ]
  },
  {
   "cell_type": "markdown",
   "metadata": {},
   "source": [
    "# Test for all vcf files"
   ]
  },
  {
   "cell_type": "code",
   "execution_count": 50,
   "metadata": {},
   "outputs": [],
   "source": [
    "def all_vcf(anno):\n",
    "\n",
    "    # subset and clean\n",
    "    anno = anno[anno[\"LAB\"] == \"PROKISCH\"]\n",
    "    anno = anno[pd.notnull(anno.EXOME_ID)]\n",
    "    anno_vcf = anno[[\"EXOME_ID\"]].copy()\n",
    "\n",
    "    anno_vcf['file'] = [\"/s/project/mitoMultiOmics/raw_data/helmholtz/\" + x + \"/exomicout/paired-endout/stdFilenames/\" + x + \".vcf.gz\" for x in anno_vcf[\"EXOME_ID\"]]\n",
    "    anno_vcf['vcf_exists'] = [os.path.exists(x) for x in anno_vcf[\"file\"]]\n",
    "    anno_vcf = anno_vcf[anno_vcf['vcf_exists']]\n",
    "    \n",
    "    return pd.unique(anno_vcf[\"EXOME_ID\"]).tolist()"
   ]
  },
  {
   "cell_type": "code",
   "execution_count": 51,
   "metadata": {},
   "outputs": [
    {
     "data": {
      "text/plain": [
       "752"
      ]
     },
     "execution_count": 51,
     "metadata": {},
     "output_type": "execute_result"
    }
   ],
   "source": [
    "all_vcfs = all_vcf(anno)\n",
    "len(all_vcfs)"
   ]
  },
  {
   "cell_type": "code",
   "execution_count": 56,
   "metadata": {},
   "outputs": [
    {
     "data": {
      "text/plain": [
       "232"
      ]
     },
     "execution_count": 56,
     "metadata": {},
     "output_type": "execute_result"
    }
   ],
   "source": [
    "len(vcf)"
   ]
  },
  {
   "cell_type": "markdown",
   "metadata": {},
   "source": [
    "## OUTRIDER group files"
   ]
  },
  {
   "cell_type": "code",
   "execution_count": 91,
   "metadata": {},
   "outputs": [],
   "source": [
    "anno = pd.read_csv(\"../../../sample_annotation/Data/sample_annotation.tsv\", sep='\\t')"
   ]
  },
  {
   "cell_type": "code",
   "execution_count": 20,
   "metadata": {},
   "outputs": [],
   "source": [
    "def outrider_files(anno):\n",
    "\n",
    "    # subset and clean\n",
    "    anno_outrider = anno[(anno.LAB == \"PROKISCH\") & pd.notnull(anno.RNA_ID) & pd.notnull(anno.OUTRIDER_GROUP)]\n",
    "    anno_outrider = anno_outrider[[\"RNA_ID\", \"OUTRIDER_GROUP\"]].drop_duplicates().copy()\n",
    "\n",
    "    # create filenames and ignore missing files\n",
    "    anno_outrider['file'] = [\"/s/project/mitoMultiOmics/raw_data/helmholtz/\" + x +\n",
    "                             \"/RNAout/paired-endout/stdFilenames/\" + x + \".bam\"\n",
    "                             for x in anno_outrider[\"RNA_ID\"]]\n",
    "    anno_outrider['file_exists'] = [os.path.exists(x) for x in anno_outrider[\"file\"]]\n",
    "    anno_outrider = anno_outrider[anno_outrider['file_exists']]\n",
    "\n",
    "    # subset by OUTRIDER_GROUP\n",
    "    # TODO: extend to extend multiple comma-separated groups per RNA_ID\n",
    "    return {og : anno_outrider.loc[anno_outrider.OUTRIDER_GROUP == og, 'RNA_ID'].tolist() for og in set(pd.unique(anno_outrider.OUTRIDER_GROUP))}"
   ]
  },
  {
   "cell_type": "code",
   "execution_count": 21,
   "metadata": {},
   "outputs": [
    {
     "data": {
      "text/html": [
       "<div>\n",
       "<style scoped>\n",
       "    .dataframe tbody tr th:only-of-type {\n",
       "        vertical-align: middle;\n",
       "    }\n",
       "\n",
       "    .dataframe tbody tr th {\n",
       "        vertical-align: top;\n",
       "    }\n",
       "\n",
       "    .dataframe thead th {\n",
       "        text-align: right;\n",
       "    }\n",
       "</style>\n",
       "<table border=\"1\" class=\"dataframe\">\n",
       "  <thead>\n",
       "    <tr style=\"text-align: right;\">\n",
       "      <th></th>\n",
       "      <th>FIBROBLAST_ID</th>\n",
       "      <th>EXOME_ID</th>\n",
       "      <th>RNA_ID</th>\n",
       "      <th>GENOME_ID</th>\n",
       "      <th>KNOWN_MUTATION</th>\n",
       "      <th>TISSUE</th>\n",
       "      <th>DISEASE</th>\n",
       "      <th>MAX_RNA_TO_EXOME_IDENTITY</th>\n",
       "      <th>PROTEOME_ID</th>\n",
       "      <th>GENDER</th>\n",
       "      <th>...</th>\n",
       "      <th>RNA_BARCODE</th>\n",
       "      <th>RNA_SEQDATE</th>\n",
       "      <th>IS_RNA_SEQ_STRANDED</th>\n",
       "      <th>BATCH</th>\n",
       "      <th>PubMed_ID</th>\n",
       "      <th>Last_revised</th>\n",
       "      <th>fib_id</th>\n",
       "      <th>PATIENT_ID</th>\n",
       "      <th>PEDIGREE_new</th>\n",
       "      <th>OUTRIDER_GROUP</th>\n",
       "    </tr>\n",
       "  </thead>\n",
       "  <tbody>\n",
       "    <tr>\n",
       "      <th>0</th>\n",
       "      <td>100416</td>\n",
       "      <td>NaN</td>\n",
       "      <td>MUC3196</td>\n",
       "      <td>NaN</td>\n",
       "      <td>NaN</td>\n",
       "      <td>FIBROBLAST</td>\n",
       "      <td>HEALTHY</td>\n",
       "      <td>0.41</td>\n",
       "      <td>NaN</td>\n",
       "      <td>NaN</td>\n",
       "      <td>...</td>\n",
       "      <td>NaN</td>\n",
       "      <td>NaN</td>\n",
       "      <td>1.0</td>\n",
       "      <td>Batch_2</td>\n",
       "      <td>NaN</td>\n",
       "      <td>NaN</td>\n",
       "      <td>100416</td>\n",
       "      <td>NaN</td>\n",
       "      <td>NaN</td>\n",
       "      <td>fib_ss</td>\n",
       "    </tr>\n",
       "    <tr>\n",
       "      <th>1</th>\n",
       "      <td>100416</td>\n",
       "      <td>NaN</td>\n",
       "      <td>MUC3197</td>\n",
       "      <td>NaN</td>\n",
       "      <td>NaN</td>\n",
       "      <td>FIBROBLAST</td>\n",
       "      <td>HEALTHY</td>\n",
       "      <td>0.41</td>\n",
       "      <td>NaN</td>\n",
       "      <td>NaN</td>\n",
       "      <td>...</td>\n",
       "      <td>NaN</td>\n",
       "      <td>NaN</td>\n",
       "      <td>1.0</td>\n",
       "      <td>Batch_2</td>\n",
       "      <td>NaN</td>\n",
       "      <td>NaN</td>\n",
       "      <td>100416</td>\n",
       "      <td>NaN</td>\n",
       "      <td>NaN</td>\n",
       "      <td>gal</td>\n",
       "    </tr>\n",
       "    <tr>\n",
       "      <th>2</th>\n",
       "      <td>100634</td>\n",
       "      <td>92582</td>\n",
       "      <td>100634R</td>\n",
       "      <td>NaN</td>\n",
       "      <td>NaN</td>\n",
       "      <td>FIBROBLAST</td>\n",
       "      <td>MITO</td>\n",
       "      <td>0.94</td>\n",
       "      <td>P100634</td>\n",
       "      <td>female</td>\n",
       "      <td>...</td>\n",
       "      <td>NaN</td>\n",
       "      <td>NaN</td>\n",
       "      <td>1.0</td>\n",
       "      <td>Batch_2</td>\n",
       "      <td>NaN</td>\n",
       "      <td>20181119.0</td>\n",
       "      <td>100634</td>\n",
       "      <td>p67077</td>\n",
       "      <td>ExDiag0510</td>\n",
       "      <td>fib_ss</td>\n",
       "    </tr>\n",
       "    <tr>\n",
       "      <th>3</th>\n",
       "      <td>100782</td>\n",
       "      <td>98288</td>\n",
       "      <td>110468R</td>\n",
       "      <td>NaN</td>\n",
       "      <td>NaN</td>\n",
       "      <td>FIBROBLAST</td>\n",
       "      <td>MITO</td>\n",
       "      <td>NaN</td>\n",
       "      <td>P100782</td>\n",
       "      <td>male</td>\n",
       "      <td>...</td>\n",
       "      <td>NaN</td>\n",
       "      <td>NaN</td>\n",
       "      <td>1.0</td>\n",
       "      <td>Batch_4</td>\n",
       "      <td>NaN</td>\n",
       "      <td>NaN</td>\n",
       "      <td>100782</td>\n",
       "      <td>p70754</td>\n",
       "      <td>ExDiag0874</td>\n",
       "      <td>fib_ss</td>\n",
       "    </tr>\n",
       "    <tr>\n",
       "      <th>4</th>\n",
       "      <td>101309</td>\n",
       "      <td>104905</td>\n",
       "      <td>110442R</td>\n",
       "      <td>NaN</td>\n",
       "      <td>NaN</td>\n",
       "      <td>FIBROBLAST</td>\n",
       "      <td>MITO</td>\n",
       "      <td>NaN</td>\n",
       "      <td>NaN</td>\n",
       "      <td>female</td>\n",
       "      <td>...</td>\n",
       "      <td>NaN</td>\n",
       "      <td>NaN</td>\n",
       "      <td>1.0</td>\n",
       "      <td>Batch_4</td>\n",
       "      <td>NaN</td>\n",
       "      <td>NaN</td>\n",
       "      <td>101309</td>\n",
       "      <td>p72867</td>\n",
       "      <td>SALK0009</td>\n",
       "      <td>fib_ss</td>\n",
       "    </tr>\n",
       "  </tbody>\n",
       "</table>\n",
       "<p>5 rows × 53 columns</p>\n",
       "</div>"
      ],
      "text/plain": [
       "  FIBROBLAST_ID EXOME_ID   RNA_ID GENOME_ID KNOWN_MUTATION      TISSUE  \\\n",
       "0        100416      NaN  MUC3196       NaN            NaN  FIBROBLAST   \n",
       "1        100416      NaN  MUC3197       NaN            NaN  FIBROBLAST   \n",
       "2        100634    92582  100634R       NaN            NaN  FIBROBLAST   \n",
       "3        100782    98288  110468R       NaN            NaN  FIBROBLAST   \n",
       "4        101309   104905  110442R       NaN            NaN  FIBROBLAST   \n",
       "\n",
       "   DISEASE  MAX_RNA_TO_EXOME_IDENTITY PROTEOME_ID  GENDER  ... RNA_BARCODE  \\\n",
       "0  HEALTHY                       0.41         NaN     NaN  ...         NaN   \n",
       "1  HEALTHY                       0.41         NaN     NaN  ...         NaN   \n",
       "2     MITO                       0.94     P100634  female  ...         NaN   \n",
       "3     MITO                        NaN     P100782    male  ...         NaN   \n",
       "4     MITO                        NaN         NaN  female  ...         NaN   \n",
       "\n",
       "  RNA_SEQDATE IS_RNA_SEQ_STRANDED    BATCH PubMed_ID Last_revised  fib_id  \\\n",
       "0         NaN                 1.0  Batch_2       NaN          NaN  100416   \n",
       "1         NaN                 1.0  Batch_2       NaN          NaN  100416   \n",
       "2         NaN                 1.0  Batch_2       NaN   20181119.0  100634   \n",
       "3         NaN                 1.0  Batch_4       NaN          NaN  100782   \n",
       "4         NaN                 1.0  Batch_4       NaN          NaN  101309   \n",
       "\n",
       "   PATIENT_ID  PEDIGREE_new  OUTRIDER_GROUP  \n",
       "0         NaN           NaN          fib_ss  \n",
       "1         NaN           NaN             gal  \n",
       "2      p67077    ExDiag0510          fib_ss  \n",
       "3      p70754    ExDiag0874          fib_ss  \n",
       "4      p72867      SALK0009          fib_ss  \n",
       "\n",
       "[5 rows x 53 columns]"
      ]
     },
     "execution_count": 21,
     "metadata": {},
     "output_type": "execute_result"
    }
   ],
   "source": [
    "anno.head()"
   ]
  },
  {
   "cell_type": "code",
   "execution_count": 22,
   "metadata": {},
   "outputs": [],
   "source": [
    "of = outrider_files(anno)"
   ]
  },
  {
   "cell_type": "code",
   "execution_count": 25,
   "metadata": {},
   "outputs": [
    {
     "data": {
      "text/plain": [
       "157"
      ]
     },
     "execution_count": 25,
     "metadata": {},
     "output_type": "execute_result"
    }
   ],
   "source": [
    "len(of['fib_ns'])"
   ]
  },
  {
   "cell_type": "code",
   "execution_count": null,
   "metadata": {},
   "outputs": [],
   "source": []
  }
 ],
 "metadata": {
  "kernelspec": {
   "display_name": "Python 3",
   "language": "python",
   "name": "python3"
  },
  "language_info": {
   "codemirror_mode": {
    "name": "ipython",
    "version": 3
   },
   "file_extension": ".py",
   "mimetype": "text/x-python",
   "name": "python",
   "nbconvert_exporter": "python",
   "pygments_lexer": "ipython3",
   "version": "3.6.8"
  }
 },
 "nbformat": 4,
 "nbformat_minor": 2
}
