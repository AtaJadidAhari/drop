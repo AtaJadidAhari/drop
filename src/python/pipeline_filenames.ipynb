{
 "cells": [
  {
   "cell_type": "code",
   "execution_count": 39,
   "metadata": {},
   "outputs": [],
   "source": [
    "import pandas as pd\n",
    "import os\n",
    "import numpy as np\n",
    "import pprint"
   ]
  },
  {
   "cell_type": "code",
   "execution_count": 3,
   "metadata": {},
   "outputs": [],
   "source": [
    "anno = pd.read_csv(\"../../../sample_annotation/Data/sample_annotation.tsv\", sep='\\t')"
   ]
  },
  {
   "cell_type": "code",
   "execution_count": 4,
   "metadata": {},
   "outputs": [
    {
     "data": {
      "text/plain": [
       "'100416'"
      ]
     },
     "execution_count": 4,
     "metadata": {},
     "output_type": "execute_result"
    }
   ],
   "source": [
    "# print(anno['FIBROBLAST_ID'])\n",
    "# anno.iloc[1]\n",
    "anno.loc[1,\"FIBROBLAST_ID\"]"
   ]
  },
  {
   "cell_type": "code",
   "execution_count": 4,
   "metadata": {},
   "outputs": [],
   "source": [
    "anno_mae = anno[anno[\"LAB\"] == \"PROKISCH\"] "
   ]
  },
  {
   "cell_type": "code",
   "execution_count": 5,
   "metadata": {},
   "outputs": [
    {
     "data": {
      "text/plain": [
       "(1268, 53)"
      ]
     },
     "execution_count": 5,
     "metadata": {},
     "output_type": "execute_result"
    }
   ],
   "source": [
    "np.unique(anno_mae[\"LAB\"])\n",
    "anno_mae.shape"
   ]
  },
  {
   "cell_type": "code",
   "execution_count": 6,
   "metadata": {},
   "outputs": [],
   "source": [
    "#np.isnan(anno_mae.EXOME_ID)\n",
    "anno_mae = anno_mae[pd.notnull(anno_mae.EXOME_ID)]\n",
    "anno_mae = anno_mae[pd.notnull(anno_mae.RNA_ID)]"
   ]
  },
  {
   "cell_type": "code",
   "execution_count": 7,
   "metadata": {},
   "outputs": [
    {
     "data": {
      "text/plain": [
       "(284, 53)"
      ]
     },
     "execution_count": 7,
     "metadata": {},
     "output_type": "execute_result"
    }
   ],
   "source": [
    "anno_mae.shape"
   ]
  },
  {
   "cell_type": "code",
   "execution_count": 8,
   "metadata": {},
   "outputs": [],
   "source": [
    "anno_mae = anno_mae[[\"EXOME_ID\", \"RNA_ID\"]]"
   ]
  },
  {
   "cell_type": "code",
   "execution_count": 9,
   "metadata": {},
   "outputs": [],
   "source": [
    "anno_mae['rna_file'] = [\"/s/project/mitoMultiOmics/raw_data/helmholtz/\" + x + \"/RNAout/paired-endout/stdFilenames/\" + x + \".bam\" for x in anno_mae[\"RNA_ID\"]]"
   ]
  },
  {
   "cell_type": "code",
   "execution_count": 10,
   "metadata": {},
   "outputs": [],
   "source": [
    "anno_mae['vcf_file'] = [\"/s/project/mitoMultiOmics/raw_data/helmholtz/\" + x + \"/exomicout/paired-endout/stdFilenames/\" + x + \".vcf.gz\" for x in anno_mae[\"EXOME_ID\"]]"
   ]
  },
  {
   "cell_type": "code",
   "execution_count": 12,
   "metadata": {},
   "outputs": [],
   "source": [
    "# anno_mae[\"vcf_file\"]\n",
    "anno_mae['vcf_exists'] = [os.path.exists(x) for x in anno_mae[\"vcf_file\"]]\n",
    "anno_mae['rna_exists'] = [os.path.exists(x) for x in anno_mae[\"rna_file\"]]\n",
    "anno_mae = anno_mae[anno_mae['vcf_exists'] & anno_mae['rna_exists']]"
   ]
  },
  {
   "cell_type": "code",
   "execution_count": 40,
   "metadata": {},
   "outputs": [],
   "source": [
    "# ('mae/' + anno_mae[\"EXOME_ID\"] + '-' + anno_mae[\"RNA_ID\"] + '.Rds').tolist()"
   ]
  },
  {
   "cell_type": "markdown",
   "metadata": {},
   "source": [
    "## Complete Function"
   ]
  },
  {
   "cell_type": "code",
   "execution_count": 9,
   "metadata": {},
   "outputs": [],
   "source": [
    "def mae_files(anno):\n",
    "    \n",
    "    # subset and clean\n",
    "    anno_mae = anno[anno[\"LAB\"] == \"PROKISCH\"]\n",
    "    anno_mae = anno_mae[pd.notnull(anno_mae.EXOME_ID)]\n",
    "    anno_mae = anno_mae[pd.notnull(anno_mae.RNA_ID)]\n",
    "    anno_mae = anno_mae[[\"EXOME_ID\", \"RNA_ID\"]]\n",
    "\n",
    "    # create file names\n",
    "    anno_mae['rna_file'] = [\"/s/project/mitoMultiOmics/raw_data/helmholtz/\" + x + \"/RNAout/paired-endout/stdFilenames/\" + x + \".bam\" for x in anno_mae[\"RNA_ID\"]]\n",
    "    anno_mae['vcf_file'] = [\"/s/project/mitoMultiOmics/raw_data/helmholtz/\" + x + \"/exomicout/paired-endout/stdFilenames/\" + x + \".vcf.gz\" for x in anno_mae[\"EXOME_ID\"]]\n",
    "\n",
    "    # check for missing files\n",
    "    anno_mae['vcf_exists'] = [os.path.exists(x) for x in anno_mae[\"vcf_file\"]]\n",
    "    anno_mae['rna_exists'] = [os.path.exists(x) for x in anno_mae[\"rna_file\"]]\n",
    "    anno_mae = anno_mae[anno_mae['vcf_exists'] & anno_mae['rna_exists']]\n",
    "    \n",
    "    vcf = anno_mae[\"EXOME_ID\"] \n",
    "    rna = anno_mae[\"RNA_ID\"]\n",
    "    \n",
    "    return vcf.tolist(), rna.tolist()"
   ]
  },
  {
   "cell_type": "code",
   "execution_count": 10,
   "metadata": {},
   "outputs": [],
   "source": [
    "vcf, rna = mae_files(anno)"
   ]
  },
  {
   "cell_type": "markdown",
   "metadata": {},
   "source": [
    "# Test for all vcf files"
   ]
  },
  {
   "cell_type": "code",
   "execution_count": 50,
   "metadata": {},
   "outputs": [],
   "source": [
    "def all_vcf(anno):\n",
    "\n",
    "    # subset and clean\n",
    "    anno = anno[anno[\"LAB\"] == \"PROKISCH\"]\n",
    "    anno = anno[pd.notnull(anno.EXOME_ID)]\n",
    "    anno_vcf = anno[[\"EXOME_ID\"]].copy()\n",
    "\n",
    "    anno_vcf['file'] = [\"/s/project/mitoMultiOmics/raw_data/helmholtz/\" + x + \"/exomicout/paired-endout/stdFilenames/\" + x + \".vcf.gz\" for x in anno_vcf[\"EXOME_ID\"]]\n",
    "    anno_vcf['vcf_exists'] = [os.path.exists(x) for x in anno_vcf[\"file\"]]\n",
    "    anno_vcf = anno_vcf[anno_vcf['vcf_exists']]\n",
    "    \n",
    "    return pd.unique(anno_vcf[\"EXOME_ID\"]).tolist()"
   ]
  },
  {
   "cell_type": "code",
   "execution_count": 51,
   "metadata": {},
   "outputs": [
    {
     "data": {
      "text/plain": [
       "752"
      ]
     },
     "execution_count": 51,
     "metadata": {},
     "output_type": "execute_result"
    }
   ],
   "source": [
    "all_vcfs = all_vcf(anno)\n",
    "len(all_vcfs)"
   ]
  },
  {
   "cell_type": "code",
   "execution_count": 56,
   "metadata": {},
   "outputs": [
    {
     "data": {
      "text/plain": [
       "232"
      ]
     },
     "execution_count": 56,
     "metadata": {},
     "output_type": "execute_result"
    }
   ],
   "source": [
    "len(vcf)"
   ]
  },
  {
   "cell_type": "markdown",
   "metadata": {},
   "source": [
    "## OUTRIDER group files"
   ]
  },
  {
   "cell_type": "code",
   "execution_count": 2,
   "metadata": {},
   "outputs": [],
   "source": [
    "anno = pd.read_csv(\"../../../sample_annotation/Data/sample_annotation.tsv\", sep='\\t')"
   ]
  },
  {
   "cell_type": "code",
   "execution_count": 64,
   "metadata": {},
   "outputs": [],
   "source": [
    "def outrider_files(anno):\n",
    "\n",
    "    # subset and clean\n",
    "    anno_outrider = anno[(anno.LAB == \"PROKISCH\") & pd.notnull(anno.RNA_ID) & pd.notnull(anno.OUTRIDER_GROUP)]\n",
    "    anno_outrider = anno_outrider[[\"RNA_ID\", \"OUTRIDER_GROUP\"]].drop_duplicates().copy()\n",
    "\n",
    "    # create filenames and ignore missing files\n",
    "    anno_outrider['file'] = [\"/s/project/mitoMultiOmics/raw_data/helmholtz/\" + x +\n",
    "                             \"/RNAout/paired-endout/stdFilenames/\" + x + \".bam\"\n",
    "                             for x in anno_outrider[\"RNA_ID\"]]\n",
    "    anno_outrider['file_exists'] = [os.path.exists(x) for x in anno_outrider[\"file\"]]\n",
    "    anno_outrider = anno_outrider[anno_outrider['file_exists']]\n",
    "\n",
    "    # subset by OUTRIDER_GROUP\n",
    "    outrider_groups = []\n",
    "    for s in set(anno_outrider.OUTRIDER_GROUP):\n",
    "        outrider_groups.extend(s.split(','))\n",
    "    outrider_ids = {og : anno_outrider.loc[anno_outrider.OUTRIDER_GROUP.str.contains('(^|,)' + og), 'RNA_ID'].tolist() for og in set(outrider_groups)}\n",
    "    return {og: _list for og, _list in outrider_ids.items() if len(_list) > 40}"
   ]
  },
  {
   "cell_type": "code",
   "execution_count": 65,
   "metadata": {},
   "outputs": [
    {
     "data": {
      "text/html": [
       "<div>\n",
       "<style scoped>\n",
       "    .dataframe tbody tr th:only-of-type {\n",
       "        vertical-align: middle;\n",
       "    }\n",
       "\n",
       "    .dataframe tbody tr th {\n",
       "        vertical-align: top;\n",
       "    }\n",
       "\n",
       "    .dataframe thead th {\n",
       "        text-align: right;\n",
       "    }\n",
       "</style>\n",
       "<table border=\"1\" class=\"dataframe\">\n",
       "  <thead>\n",
       "    <tr style=\"text-align: right;\">\n",
       "      <th></th>\n",
       "      <th>FIBROBLAST_ID</th>\n",
       "      <th>EXOME_ID</th>\n",
       "      <th>RNA_ID</th>\n",
       "      <th>GENOME_ID</th>\n",
       "      <th>KNOWN_MUTATION</th>\n",
       "      <th>TISSUE</th>\n",
       "      <th>DISEASE</th>\n",
       "      <th>MAX_RNA_TO_EXOME_IDENTITY</th>\n",
       "      <th>PROTEOME_ID</th>\n",
       "      <th>GENDER</th>\n",
       "      <th>...</th>\n",
       "      <th>PubMed_ID</th>\n",
       "      <th>Last_revised</th>\n",
       "      <th>fib_id</th>\n",
       "      <th>PATIENT_ID</th>\n",
       "      <th>PEDIGREE_new</th>\n",
       "      <th>g0</th>\n",
       "      <th>g1</th>\n",
       "      <th>OUTRIDER_GROUP</th>\n",
       "      <th>g2</th>\n",
       "      <th>g3</th>\n",
       "    </tr>\n",
       "  </thead>\n",
       "  <tbody>\n",
       "    <tr>\n",
       "      <th>0</th>\n",
       "      <td>100416</td>\n",
       "      <td>NaN</td>\n",
       "      <td>MUC3196</td>\n",
       "      <td>NaN</td>\n",
       "      <td>NaN</td>\n",
       "      <td>FIBROBLAST</td>\n",
       "      <td>HEALTHY</td>\n",
       "      <td>0.41</td>\n",
       "      <td>NaN</td>\n",
       "      <td>NaN</td>\n",
       "      <td>...</td>\n",
       "      <td>NaN</td>\n",
       "      <td>NaN</td>\n",
       "      <td>100416</td>\n",
       "      <td>NaN</td>\n",
       "      <td>NaN</td>\n",
       "      <td>all</td>\n",
       "      <td>fib_ss</td>\n",
       "      <td>all,fib_ss,fib,no_blood</td>\n",
       "      <td>fib</td>\n",
       "      <td>no_blood</td>\n",
       "    </tr>\n",
       "    <tr>\n",
       "      <th>1</th>\n",
       "      <td>100416</td>\n",
       "      <td>NaN</td>\n",
       "      <td>MUC3197</td>\n",
       "      <td>NaN</td>\n",
       "      <td>NaN</td>\n",
       "      <td>FIBROBLAST</td>\n",
       "      <td>HEALTHY</td>\n",
       "      <td>0.41</td>\n",
       "      <td>NaN</td>\n",
       "      <td>NaN</td>\n",
       "      <td>...</td>\n",
       "      <td>NaN</td>\n",
       "      <td>NaN</td>\n",
       "      <td>100416</td>\n",
       "      <td>NaN</td>\n",
       "      <td>NaN</td>\n",
       "      <td>all</td>\n",
       "      <td>gal</td>\n",
       "      <td>all,gal,fib,no_blood</td>\n",
       "      <td>fib</td>\n",
       "      <td>no_blood</td>\n",
       "    </tr>\n",
       "    <tr>\n",
       "      <th>2</th>\n",
       "      <td>100634</td>\n",
       "      <td>92582</td>\n",
       "      <td>100634R</td>\n",
       "      <td>NaN</td>\n",
       "      <td>NaN</td>\n",
       "      <td>FIBROBLAST</td>\n",
       "      <td>MITO</td>\n",
       "      <td>0.94</td>\n",
       "      <td>P100634</td>\n",
       "      <td>female</td>\n",
       "      <td>...</td>\n",
       "      <td>NaN</td>\n",
       "      <td>20181119.0</td>\n",
       "      <td>100634</td>\n",
       "      <td>p67077</td>\n",
       "      <td>ExDiag0510</td>\n",
       "      <td>all</td>\n",
       "      <td>fib_ss</td>\n",
       "      <td>all,fib_ss,fib,no_blood</td>\n",
       "      <td>fib</td>\n",
       "      <td>no_blood</td>\n",
       "    </tr>\n",
       "    <tr>\n",
       "      <th>3</th>\n",
       "      <td>100782</td>\n",
       "      <td>98288</td>\n",
       "      <td>110468R</td>\n",
       "      <td>NaN</td>\n",
       "      <td>NaN</td>\n",
       "      <td>FIBROBLAST</td>\n",
       "      <td>MITO</td>\n",
       "      <td>NaN</td>\n",
       "      <td>P100782</td>\n",
       "      <td>male</td>\n",
       "      <td>...</td>\n",
       "      <td>NaN</td>\n",
       "      <td>NaN</td>\n",
       "      <td>100782</td>\n",
       "      <td>p70754</td>\n",
       "      <td>ExDiag0874</td>\n",
       "      <td>all</td>\n",
       "      <td>fib_ss</td>\n",
       "      <td>all,fib_ss,fib,no_blood</td>\n",
       "      <td>fib</td>\n",
       "      <td>no_blood</td>\n",
       "    </tr>\n",
       "    <tr>\n",
       "      <th>4</th>\n",
       "      <td>101309</td>\n",
       "      <td>104905</td>\n",
       "      <td>110442R</td>\n",
       "      <td>NaN</td>\n",
       "      <td>NaN</td>\n",
       "      <td>FIBROBLAST</td>\n",
       "      <td>MITO</td>\n",
       "      <td>NaN</td>\n",
       "      <td>NaN</td>\n",
       "      <td>female</td>\n",
       "      <td>...</td>\n",
       "      <td>NaN</td>\n",
       "      <td>NaN</td>\n",
       "      <td>101309</td>\n",
       "      <td>p72867</td>\n",
       "      <td>SALK0009</td>\n",
       "      <td>all</td>\n",
       "      <td>fib_ss</td>\n",
       "      <td>all,fib_ss,fib,no_blood</td>\n",
       "      <td>fib</td>\n",
       "      <td>no_blood</td>\n",
       "    </tr>\n",
       "  </tbody>\n",
       "</table>\n",
       "<p>5 rows × 57 columns</p>\n",
       "</div>"
      ],
      "text/plain": [
       "  FIBROBLAST_ID EXOME_ID   RNA_ID GENOME_ID KNOWN_MUTATION      TISSUE  \\\n",
       "0        100416      NaN  MUC3196       NaN            NaN  FIBROBLAST   \n",
       "1        100416      NaN  MUC3197       NaN            NaN  FIBROBLAST   \n",
       "2        100634    92582  100634R       NaN            NaN  FIBROBLAST   \n",
       "3        100782    98288  110468R       NaN            NaN  FIBROBLAST   \n",
       "4        101309   104905  110442R       NaN            NaN  FIBROBLAST   \n",
       "\n",
       "   DISEASE  MAX_RNA_TO_EXOME_IDENTITY PROTEOME_ID  GENDER  ... PubMed_ID  \\\n",
       "0  HEALTHY                       0.41         NaN     NaN  ...       NaN   \n",
       "1  HEALTHY                       0.41         NaN     NaN  ...       NaN   \n",
       "2     MITO                       0.94     P100634  female  ...       NaN   \n",
       "3     MITO                        NaN     P100782    male  ...       NaN   \n",
       "4     MITO                        NaN         NaN  female  ...       NaN   \n",
       "\n",
       "  Last_revised  fib_id PATIENT_ID PEDIGREE_new   g0      g1  \\\n",
       "0          NaN  100416        NaN          NaN  all  fib_ss   \n",
       "1          NaN  100416        NaN          NaN  all     gal   \n",
       "2   20181119.0  100634     p67077   ExDiag0510  all  fib_ss   \n",
       "3          NaN  100782     p70754   ExDiag0874  all  fib_ss   \n",
       "4          NaN  101309     p72867     SALK0009  all  fib_ss   \n",
       "\n",
       "            OUTRIDER_GROUP   g2        g3  \n",
       "0  all,fib_ss,fib,no_blood  fib  no_blood  \n",
       "1     all,gal,fib,no_blood  fib  no_blood  \n",
       "2  all,fib_ss,fib,no_blood  fib  no_blood  \n",
       "3  all,fib_ss,fib,no_blood  fib  no_blood  \n",
       "4  all,fib_ss,fib,no_blood  fib  no_blood  \n",
       "\n",
       "[5 rows x 57 columns]"
      ]
     },
     "execution_count": 65,
     "metadata": {},
     "output_type": "execute_result"
    }
   ],
   "source": [
    "anno.head()"
   ]
  },
  {
   "cell_type": "code",
   "execution_count": 66,
   "metadata": {},
   "outputs": [
    {
     "name": "stderr",
     "output_type": "stream",
     "text": [
      "/opt/modules/i12g/anaconda/3-4.1.1/envs/genetic_diagnosis/lib/python3.6/site-packages/ipykernel_launcher.py:18: UserWarning: This pattern has match groups. To actually get the groups, use str.extract.\n"
     ]
    }
   ],
   "source": [
    "of = outrider_files(anno)"
   ]
  },
  {
   "cell_type": "code",
   "execution_count": 67,
   "metadata": {},
   "outputs": [
    {
     "data": {
      "text/plain": [
       "157"
      ]
     },
     "execution_count": 67,
     "metadata": {},
     "output_type": "execute_result"
    }
   ],
   "source": [
    "len(of['fib_ns'])"
   ]
  },
  {
   "cell_type": "code",
   "execution_count": null,
   "metadata": {},
   "outputs": [],
   "source": []
  }
 ],
 "metadata": {
  "kernelspec": {
   "display_name": "Python 3",
   "language": "python",
   "name": "python3"
  },
  "language_info": {
   "codemirror_mode": {
    "name": "ipython",
    "version": 3
   },
   "file_extension": ".py",
   "mimetype": "text/x-python",
   "name": "python",
   "nbconvert_exporter": "python",
   "pygments_lexer": "ipython3",
   "version": "3.6.8"
  }
 },
 "nbformat": 4,
 "nbformat_minor": 2
}
