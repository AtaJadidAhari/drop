{
 "cells": [
  {
   "cell_type": "code",
   "execution_count": 41,
   "metadata": {},
   "outputs": [],
   "source": [
    "import pandas as pd\n",
    "import os\n",
    "import numpy as np"
   ]
  },
  {
   "cell_type": "code",
   "execution_count": 4,
   "metadata": {},
   "outputs": [],
   "source": [
    "anno = pd.read_table(\"../../../sample_annotation/Data/sample_annotation.tsv\")"
   ]
  },
  {
   "cell_type": "code",
   "execution_count": 10,
   "metadata": {},
   "outputs": [
    {
     "data": {
      "text/plain": [
       "'100416'"
      ]
     },
     "execution_count": 10,
     "metadata": {},
     "output_type": "execute_result"
    }
   ],
   "source": [
    "# print(anno['FIBROBLAST_ID'])\n",
    "# anno.iloc[1]\n",
    "anno.loc[1,\"FIBROBLAST_ID\"]"
   ]
  },
  {
   "cell_type": "code",
   "execution_count": 27,
   "metadata": {},
   "outputs": [],
   "source": [
    "anno_mae = anno[anno[\"LAB\"] == \"PROKISCH\"] "
   ]
  },
  {
   "cell_type": "code",
   "execution_count": 42,
   "metadata": {},
   "outputs": [
    {
     "data": {
      "text/plain": [
       "(1245, 53)"
      ]
     },
     "execution_count": 42,
     "metadata": {},
     "output_type": "execute_result"
    }
   ],
   "source": [
    "np.unique(anno_mae[\"LAB\"])\n",
    "anno_mae.shape"
   ]
  },
  {
   "cell_type": "code",
   "execution_count": 51,
   "metadata": {},
   "outputs": [],
   "source": [
    "#np.isnan(anno_mae.EXOME_ID)\n",
    "anno_mae = anno_mae[pd.notnull(anno_mae.EXOME_ID)]\n",
    "anno_mae = anno_mae[pd.notnull(anno_mae.RNA_ID)]"
   ]
  },
  {
   "cell_type": "code",
   "execution_count": 67,
   "metadata": {},
   "outputs": [
    {
     "data": {
      "text/plain": [
       "(278, 53)"
      ]
     },
     "execution_count": 67,
     "metadata": {},
     "output_type": "execute_result"
    }
   ],
   "source": [
    "anno_mae.shape"
   ]
  },
  {
   "cell_type": "code",
   "execution_count": 74,
   "metadata": {},
   "outputs": [],
   "source": [
    "anno_mae = anno_mae[[\"EXOME_ID\", \"RNA_ID\"]]"
   ]
  },
  {
   "cell_type": "code",
   "execution_count": 98,
   "metadata": {},
   "outputs": [],
   "source": [
    "anno_mae['rna_file'] = [\"/s/project/mitoMultiOmics/raw_data/helmholtz/\" + x + \"/RNAout/paired-endout/stdFilenames/\" + x + \".bam\" for x in anno_mae[\"RNA_ID\"]]"
   ]
  },
  {
   "cell_type": "code",
   "execution_count": 104,
   "metadata": {},
   "outputs": [],
   "source": [
    "anno_mae['vcf_file'] = [\"/s/project/mitoMultiOmics/raw_data/helmholtz/\" + x + \"/exomicout/paired-endout/stdFilenames/\" + x + \".vcf.gz\" for x in anno_mae[\"EXOME_ID\"]]"
   ]
  },
  {
   "cell_type": "code",
   "execution_count": 110,
   "metadata": {},
   "outputs": [],
   "source": [
    "# anno_mae[\"vcf_file\"]\n",
    "anno_mae['vcf_exists'] = [os.path.exists(x) for x in anno_mae[\"vcf_file\"]]\n",
    "anno_mae['rna_exists'] = [os.path.exists(x) for x in anno_mae[\"rna_file\"]]"
   ]
  },
  {
   "cell_type": "code",
   "execution_count": null,
   "metadata": {},
   "outputs": [],
   "source": []
  }
 ],
 "metadata": {
  "kernelspec": {
   "display_name": "Python [default]",
   "language": "python",
   "name": "python3"
  },
  "language_info": {
   "codemirror_mode": {
    "name": "ipython",
    "version": 3
   },
   "file_extension": ".py",
   "mimetype": "text/x-python",
   "name": "python",
   "nbconvert_exporter": "python",
   "pygments_lexer": "ipython3",
   "version": "3.6.8"
  }
 },
 "nbformat": 4,
 "nbformat_minor": 2
}
