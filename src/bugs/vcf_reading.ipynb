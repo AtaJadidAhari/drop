{
 "cells": [
  {
   "cell_type": "code",
   "execution_count": 1,
   "metadata": {},
   "outputs": [],
   "source": [
    "import vcf\n",
    "import pprint"
   ]
  },
  {
   "cell_type": "code",
   "execution_count": 8,
   "metadata": {},
   "outputs": [],
   "source": [
    "#file_handle = gzip.open('/s/project/mitoMultiOmics/raw_data/helmholtz/74436/exomicout/paired-endout/processedData/vep_anno_74436.vcf.gz', 'rb')\n",
    "vcf_reader = vcf.Reader(filename='/s/project/mitoMultiOmics/raw_data/helmholtz/74436/exomicout/paired-endout/processedData/vep_anno_74436.vcf.gz', compressed=True)\n",
    "vcf_reader = vcf.Reader(filename='/s/project/mitoMultiOmics/raw_data/helmholtz/74436/exomicout/paired-endout/stdFilenames/74436.vcf.gz', compressed=True)"
   ]
  },
  {
   "cell_type": "code",
   "execution_count": 157,
   "metadata": {},
   "outputs": [
    {
     "name": "stdout",
     "output_type": "stream",
     "text": [
      "chr2\t88999476\trs1158603\tG\tA\t225.0\t.\tAC1=1;AF1=0.5;DP4=51,46,47,28;DP=175;FQ=225;FUNC=intronic;G5;G5A;GCF;GENEINFO=RPIA:22934;GMAF=0.489488117001828;GNO;HD;INTGENE=RPIA;INTSTRAND=+;INTTRANS=uc002ste.3;KGPilot123;MED=40;MQ=60;PH2;PV4=0.22,1,1,1;RSPOS=88999476;RV;SAO=0;SF=0.38;SLO;SSR=0;VC=SNV;VDB=0.0345;VLD;VP=0.44;WGT=0;dbSNPBuildID=87;CSQ=A|intron_variant|MODIFIER|RPIA|ENSG00000153574|Transcript|ENST00000283646|protein_coding||2/8|ENST00000283646.4:c.347-51G>A|||||||rs1158603|1||1||1|HGNC|10297|YES|CCDS2004.2|P49247|Q53SB2&Q53R32|UPI0000037A98|NM_144563.2||Ensembl|G|G|||||0.4688|0.4267|0.7219|0.5319|0.3641|0.3355|0.4348|0.4202|0.4072|0.2579|0.7474|AFR|||||3.469|0.086951,A|intron_variant|MODIFIER|RPIA|22934|Transcript|NM_144563.2|protein_coding||2/8|NM_144563.2:c.347-51G>A|||||||rs1158603|1||1||1|EntrezGene|10297|YES|||||||RefSeq|G|G|||||0.4688|0.4267|0.7219|0.5319|0.3641|0.3355|0.4348|0.4202|0.4072|0.2579|0.7474|AFR|||||3.469|0.086951\tGT:PL:DP:SP:GQ\t0/1:255,0,255:172:7:99\n"
     ]
    }
   ],
   "source": [
    "counter = 0\n",
    "chroms = []\n",
    "try:\n",
    "    for x in vcf_reader:\n",
    "        #chroms.append(x.CHROM)\n",
    "        counter += 1\n",
    "        #if counter >= 5:\n",
    "        #    break\n",
    "except ValueError:\n",
    "    print(x)"
   ]
  },
  {
   "cell_type": "code",
   "execution_count": 9,
   "metadata": {},
   "outputs": [
    {
     "name": "stdout",
     "output_type": "stream",
     "text": [
      "Record(CHROM=chr2, POS=88999476, REF=G, ALT=[A])\n"
     ]
    }
   ],
   "source": [
    "chroms = []\n",
    "try:\n",
    "    while True:\n",
    "        record = next(vcf_reader)\n",
    "        if record == None:\n",
    "            break\n",
    "        chroms.append(record.CHROM)\n",
    "except:\n",
    "    print(record)"
   ]
  },
  {
   "cell_type": "code",
   "execution_count": 4,
   "metadata": {},
   "outputs": [
    {
     "data": {
      "text/plain": [
       "{'chr1', 'chr2'}"
      ]
     },
     "execution_count": 4,
     "metadata": {},
     "output_type": "execute_result"
    }
   ],
   "source": [
    "set(chroms)"
   ]
  },
  {
   "cell_type": "code",
   "execution_count": 5,
   "metadata": {},
   "outputs": [
    {
     "ename": "ValueError",
     "evalue": "Type names and field names must be valid identifiers: 'kappa,abParts;INTSTRAND=-,-;INTTRANS=uc002stj.1,uc031rol.1;KGPilot123;MED=40;MQ=60;NCGENE=AK128525;NCSTRAND=-;NCTRANS=uc002sti.2;PH2;PV4=1,0.25,1,1;RSPOS=89157282;RV;SAO=0;SF=0.04;SLO;SSR=0;VC=SNV;VDB=0.0322;VLD;VP=0.61;WGT=0;dbSNPBuildID=79;CSQ=A|upstream_gene_variant|MODIFIER|IGKC|3514|Transcript|3514|IG_C_gene||||||||||rs232229|1|86|-1||1|EntrezGene|5716|YES|||||||RefSeq|T|T|||||0.2145||||||||||0.3691|AFR|||||15.59|1.900408,A|upstream_gene_variant|MODIFIER|IGKC|ENSG00000211592|Transcript|ENST00000390237|IG_C_gene||||||||||rs232229|1|86|-1|cds_start_NF|1|HGNC|5716|YES||P01834||UPI0000F30373|||Ensembl|T|T|||||0.2145||||||||||0.3691|AFR|||||15.59|1.900408,A|downstream_gene_variant|MODIFIER|IGKJ5|ENSG00000211593|Transcript|ENST00000390238|IG_J_gene||||||||||rs232229|1|2798|-1|cds_start_NF&cds_end_NF|1|HGNC|5723|YES||||UPI000173A592|||Ensembl|T|T|||||0.2145||||||||||0.3691|AFR|||||15.59|1.900408,A|downstream_gene_variant|MODIFIER|IGKJ4|ENSG00000211594|Transcript|ENST00000390239|IG_J_gene||||||||||rs232229|1|3116|-1|cds_start_NF&cds_end_NF|1|HGNC|5722|YES||||UPI000004330F|||Ensembl|T|T|||||0.2145||||||||||0.3691|AFR|||||15.59|1.900408,A|downstream_gene_variant|MODIFIER|IGKJ3|ENSG00000211595|Transcript|ENST00000390240|IG_J_gene||||||||||rs232229|1|3451|-1|cds_start_NF&cds_end_NF|1|HGNC|5721|YES||||UPI000173A593|||Ensembl|T|T|||||0.2145||||||||||0.3691|AFR|||||15.59|1.900408,A|downstream_gene_variant|MODIFIER|IGKJ2|ENSG00000211596|Transcript|ENST00000390241|IG_J_gene||||||||||rs232229|1|3755|-1|cds_start_NF&cds_end_NF|1|HGNC|5720|YES||||UPI000173A594|||Ensembl|T|T|||||0.2145||||||||||0.3691|AFR|||||15.59|1.900408,A|downstream_gene_variant|MODIFIER|IGKJ1|ENSG00000211597|Transcript|ENST00000390242|IG_J_gene||||||||||rs232229|1|4116|-1|cds_start_NF&cds_end_NF|1|HGNC|5719|YES||||UPI000173A595|||Ensembl|T|T|||||0.2145||||||||||0.3691|AFR|||||15.59|1.900408,A|intron_variant&non_coding_transcript_variant|MODIFIER|AC096579.7|ENSG00000231486|Transcript|ENST00000418209|processed_transcript||1/1|ENST00000418209.1'",
     "output_type": "error",
     "traceback": [
      "\u001b[0;31m---------------------------------------------------------------------------\u001b[0m",
      "\u001b[0;31mValueError\u001b[0m                                Traceback (most recent call last)",
      "\u001b[0;32m<ipython-input-5-02b2d102a30f>\u001b[0m in \u001b[0;36m<module>\u001b[0;34m\u001b[0m\n\u001b[0;32m----> 1\u001b[0;31m \u001b[0mnext\u001b[0m\u001b[0;34m(\u001b[0m\u001b[0mvcf_reader\u001b[0m\u001b[0;34m)\u001b[0m\u001b[0;34m\u001b[0m\u001b[0;34m\u001b[0m\u001b[0m\n\u001b[0m",
      "\u001b[0;32m/opt/modules/i12g/anaconda/3-4.1.1/envs/genetic_diagnosis/lib/python3.6/site-packages/vcf/parser.py\u001b[0m in \u001b[0;36m__next__\u001b[0;34m(self)\u001b[0m\n\u001b[1;32m    584\u001b[0m \u001b[0;34m\u001b[0m\u001b[0m\n\u001b[1;32m    585\u001b[0m         \u001b[0;32mif\u001b[0m \u001b[0mfmt\u001b[0m \u001b[0;32mis\u001b[0m \u001b[0;32mnot\u001b[0m \u001b[0;32mNone\u001b[0m\u001b[0;34m:\u001b[0m\u001b[0;34m\u001b[0m\u001b[0;34m\u001b[0m\u001b[0m\n\u001b[0;32m--> 586\u001b[0;31m             \u001b[0msamples\u001b[0m \u001b[0;34m=\u001b[0m \u001b[0mself\u001b[0m\u001b[0;34m.\u001b[0m\u001b[0m_parse_samples\u001b[0m\u001b[0;34m(\u001b[0m\u001b[0mrow\u001b[0m\u001b[0;34m[\u001b[0m\u001b[0;36m9\u001b[0m\u001b[0;34m:\u001b[0m\u001b[0;34m]\u001b[0m\u001b[0;34m,\u001b[0m \u001b[0mfmt\u001b[0m\u001b[0;34m,\u001b[0m \u001b[0mrecord\u001b[0m\u001b[0;34m)\u001b[0m\u001b[0;34m\u001b[0m\u001b[0;34m\u001b[0m\u001b[0m\n\u001b[0m\u001b[1;32m    587\u001b[0m             \u001b[0mrecord\u001b[0m\u001b[0;34m.\u001b[0m\u001b[0msamples\u001b[0m \u001b[0;34m=\u001b[0m \u001b[0msamples\u001b[0m\u001b[0;34m\u001b[0m\u001b[0;34m\u001b[0m\u001b[0m\n\u001b[1;32m    588\u001b[0m \u001b[0;34m\u001b[0m\u001b[0m\n",
      "\u001b[0;32m/opt/modules/i12g/anaconda/3-4.1.1/envs/genetic_diagnosis/lib/python3.6/site-packages/vcf/parser.py\u001b[0m in \u001b[0;36m_parse_samples\u001b[0;34m(self, samples, samp_fmt, site)\u001b[0m\n\u001b[1;32m    444\u001b[0m         \u001b[0;31m# check whether we already know how to parse this format\u001b[0m\u001b[0;34m\u001b[0m\u001b[0;34m\u001b[0m\u001b[0;34m\u001b[0m\u001b[0m\n\u001b[1;32m    445\u001b[0m         \u001b[0;32mif\u001b[0m \u001b[0msamp_fmt\u001b[0m \u001b[0;32mnot\u001b[0m \u001b[0;32min\u001b[0m \u001b[0mself\u001b[0m\u001b[0;34m.\u001b[0m\u001b[0m_format_cache\u001b[0m\u001b[0;34m:\u001b[0m\u001b[0;34m\u001b[0m\u001b[0;34m\u001b[0m\u001b[0m\n\u001b[0;32m--> 446\u001b[0;31m             \u001b[0mself\u001b[0m\u001b[0;34m.\u001b[0m\u001b[0m_format_cache\u001b[0m\u001b[0;34m[\u001b[0m\u001b[0msamp_fmt\u001b[0m\u001b[0;34m]\u001b[0m \u001b[0;34m=\u001b[0m \u001b[0mself\u001b[0m\u001b[0;34m.\u001b[0m\u001b[0m_parse_sample_format\u001b[0m\u001b[0;34m(\u001b[0m\u001b[0msamp_fmt\u001b[0m\u001b[0;34m)\u001b[0m\u001b[0;34m\u001b[0m\u001b[0;34m\u001b[0m\u001b[0m\n\u001b[0m\u001b[1;32m    447\u001b[0m         \u001b[0msamp_fmt\u001b[0m \u001b[0;34m=\u001b[0m \u001b[0mself\u001b[0m\u001b[0;34m.\u001b[0m\u001b[0m_format_cache\u001b[0m\u001b[0;34m[\u001b[0m\u001b[0msamp_fmt\u001b[0m\u001b[0;34m]\u001b[0m\u001b[0;34m\u001b[0m\u001b[0;34m\u001b[0m\u001b[0m\n\u001b[1;32m    448\u001b[0m \u001b[0;34m\u001b[0m\u001b[0m\n",
      "\u001b[0;32m/opt/modules/i12g/anaconda/3-4.1.1/envs/genetic_diagnosis/lib/python3.6/site-packages/vcf/parser.py\u001b[0m in \u001b[0;36m_parse_sample_format\u001b[0;34m(self, samp_fmt)\u001b[0m\n\u001b[1;32m    418\u001b[0m     \u001b[0;32mdef\u001b[0m \u001b[0m_parse_sample_format\u001b[0m\u001b[0;34m(\u001b[0m\u001b[0mself\u001b[0m\u001b[0;34m,\u001b[0m \u001b[0msamp_fmt\u001b[0m\u001b[0;34m)\u001b[0m\u001b[0;34m:\u001b[0m\u001b[0;34m\u001b[0m\u001b[0;34m\u001b[0m\u001b[0m\n\u001b[1;32m    419\u001b[0m         \u001b[0;34m\"\"\" Parse the format of the calls in this _Record \"\"\"\u001b[0m\u001b[0;34m\u001b[0m\u001b[0;34m\u001b[0m\u001b[0m\n\u001b[0;32m--> 420\u001b[0;31m         \u001b[0msamp_fmt\u001b[0m \u001b[0;34m=\u001b[0m \u001b[0mmake_calldata_tuple\u001b[0m\u001b[0;34m(\u001b[0m\u001b[0msamp_fmt\u001b[0m\u001b[0;34m.\u001b[0m\u001b[0msplit\u001b[0m\u001b[0;34m(\u001b[0m\u001b[0;34m':'\u001b[0m\u001b[0;34m)\u001b[0m\u001b[0;34m)\u001b[0m\u001b[0;34m\u001b[0m\u001b[0;34m\u001b[0m\u001b[0m\n\u001b[0m\u001b[1;32m    421\u001b[0m \u001b[0;34m\u001b[0m\u001b[0m\n\u001b[1;32m    422\u001b[0m         \u001b[0;32mfor\u001b[0m \u001b[0mfmt\u001b[0m \u001b[0;32min\u001b[0m \u001b[0msamp_fmt\u001b[0m\u001b[0;34m.\u001b[0m\u001b[0m_fields\u001b[0m\u001b[0;34m:\u001b[0m\u001b[0;34m\u001b[0m\u001b[0;34m\u001b[0m\u001b[0m\n",
      "\u001b[0;32m/opt/modules/i12g/anaconda/3-4.1.1/envs/genetic_diagnosis/lib/python3.6/site-packages/vcf/model.py\u001b[0m in \u001b[0;36mmake_calldata_tuple\u001b[0;34m(fields)\u001b[0m\n\u001b[1;32m    662\u001b[0m     \u001b[0;34m\"\"\" Return a namedtuple for a given call format \"\"\"\u001b[0m\u001b[0;34m\u001b[0m\u001b[0;34m\u001b[0m\u001b[0m\n\u001b[1;32m    663\u001b[0m \u001b[0;34m\u001b[0m\u001b[0m\n\u001b[0;32m--> 664\u001b[0;31m     \u001b[0;32mclass\u001b[0m \u001b[0mCallData\u001b[0m\u001b[0;34m(\u001b[0m\u001b[0mcollections\u001b[0m\u001b[0;34m.\u001b[0m\u001b[0mnamedtuple\u001b[0m\u001b[0;34m(\u001b[0m\u001b[0;34m'calldata'\u001b[0m\u001b[0;34m,\u001b[0m \u001b[0mfields\u001b[0m\u001b[0;34m)\u001b[0m\u001b[0;34m)\u001b[0m\u001b[0;34m:\u001b[0m\u001b[0;34m\u001b[0m\u001b[0;34m\u001b[0m\u001b[0m\n\u001b[0m\u001b[1;32m    665\u001b[0m         \u001b[0m__slots__\u001b[0m \u001b[0;34m=\u001b[0m \u001b[0;34m(\u001b[0m\u001b[0;34m)\u001b[0m\u001b[0;34m\u001b[0m\u001b[0;34m\u001b[0m\u001b[0m\n\u001b[1;32m    666\u001b[0m \u001b[0;34m\u001b[0m\u001b[0m\n",
      "\u001b[0;32m/opt/modules/i12g/anaconda/3-4.1.1/envs/genetic_diagnosis/lib/python3.6/collections/__init__.py\u001b[0m in \u001b[0;36mnamedtuple\u001b[0;34m(typename, field_names, verbose, rename, module)\u001b[0m\n\u001b[1;32m    399\u001b[0m         \u001b[0;32mif\u001b[0m \u001b[0;32mnot\u001b[0m \u001b[0mname\u001b[0m\u001b[0;34m.\u001b[0m\u001b[0misidentifier\u001b[0m\u001b[0;34m(\u001b[0m\u001b[0;34m)\u001b[0m\u001b[0;34m:\u001b[0m\u001b[0;34m\u001b[0m\u001b[0;34m\u001b[0m\u001b[0m\n\u001b[1;32m    400\u001b[0m             raise ValueError('Type names and field names must be valid '\n\u001b[0;32m--> 401\u001b[0;31m                              'identifiers: %r' % name)\n\u001b[0m\u001b[1;32m    402\u001b[0m         \u001b[0;32mif\u001b[0m \u001b[0m_iskeyword\u001b[0m\u001b[0;34m(\u001b[0m\u001b[0mname\u001b[0m\u001b[0;34m)\u001b[0m\u001b[0;34m:\u001b[0m\u001b[0;34m\u001b[0m\u001b[0;34m\u001b[0m\u001b[0m\n\u001b[1;32m    403\u001b[0m             raise ValueError('Type names and field names cannot be a '\n",
      "\u001b[0;31mValueError\u001b[0m: Type names and field names must be valid identifiers: 'kappa,abParts;INTSTRAND=-,-;INTTRANS=uc002stj.1,uc031rol.1;KGPilot123;MED=40;MQ=60;NCGENE=AK128525;NCSTRAND=-;NCTRANS=uc002sti.2;PH2;PV4=1,0.25,1,1;RSPOS=89157282;RV;SAO=0;SF=0.04;SLO;SSR=0;VC=SNV;VDB=0.0322;VLD;VP=0.61;WGT=0;dbSNPBuildID=79;CSQ=A|upstream_gene_variant|MODIFIER|IGKC|3514|Transcript|3514|IG_C_gene||||||||||rs232229|1|86|-1||1|EntrezGene|5716|YES|||||||RefSeq|T|T|||||0.2145||||||||||0.3691|AFR|||||15.59|1.900408,A|upstream_gene_variant|MODIFIER|IGKC|ENSG00000211592|Transcript|ENST00000390237|IG_C_gene||||||||||rs232229|1|86|-1|cds_start_NF|1|HGNC|5716|YES||P01834||UPI0000F30373|||Ensembl|T|T|||||0.2145||||||||||0.3691|AFR|||||15.59|1.900408,A|downstream_gene_variant|MODIFIER|IGKJ5|ENSG00000211593|Transcript|ENST00000390238|IG_J_gene||||||||||rs232229|1|2798|-1|cds_start_NF&cds_end_NF|1|HGNC|5723|YES||||UPI000173A592|||Ensembl|T|T|||||0.2145||||||||||0.3691|AFR|||||15.59|1.900408,A|downstream_gene_variant|MODIFIER|IGKJ4|ENSG00000211594|Transcript|ENST00000390239|IG_J_gene||||||||||rs232229|1|3116|-1|cds_start_NF&cds_end_NF|1|HGNC|5722|YES||||UPI000004330F|||Ensembl|T|T|||||0.2145||||||||||0.3691|AFR|||||15.59|1.900408,A|downstream_gene_variant|MODIFIER|IGKJ3|ENSG00000211595|Transcript|ENST00000390240|IG_J_gene||||||||||rs232229|1|3451|-1|cds_start_NF&cds_end_NF|1|HGNC|5721|YES||||UPI000173A593|||Ensembl|T|T|||||0.2145||||||||||0.3691|AFR|||||15.59|1.900408,A|downstream_gene_variant|MODIFIER|IGKJ2|ENSG00000211596|Transcript|ENST00000390241|IG_J_gene||||||||||rs232229|1|3755|-1|cds_start_NF&cds_end_NF|1|HGNC|5720|YES||||UPI000173A594|||Ensembl|T|T|||||0.2145||||||||||0.3691|AFR|||||15.59|1.900408,A|downstream_gene_variant|MODIFIER|IGKJ1|ENSG00000211597|Transcript|ENST00000390242|IG_J_gene||||||||||rs232229|1|4116|-1|cds_start_NF&cds_end_NF|1|HGNC|5719|YES||||UPI000173A595|||Ensembl|T|T|||||0.2145||||||||||0.3691|AFR|||||15.59|1.900408,A|intron_variant&non_coding_transcript_variant|MODIFIER|AC096579.7|ENSG00000231486|Transcript|ENST00000418209|processed_transcript||1/1|ENST00000418209.1'"
     ]
    }
   ],
   "source": [
    "next(vcf_reader)"
   ]
  },
  {
   "cell_type": "code",
   "execution_count": 138,
   "metadata": {},
   "outputs": [
    {
     "name": "stdout",
     "output_type": "stream",
     "text": [
      "{'AC1': 1.0,\n",
      " 'AF1': 0.5,\n",
      " 'CSQ': ['A|intron_variant|MODIFIER|RPIA|ENSG00000153574|Transcript|ENST00000283646|protein_coding||2/8|ENST00000283646.4:c.347-51G>A|||||||rs1158603|1||1||1|HGNC|10297|YES|CCDS2004.2|P49247|Q53SB2&Q53R32|UPI0000037A98|NM_144563.2||Ensembl|G|G|||||0.4688|0.4267|0.7219|0.5319|0.3641|0.3355|0.4348|0.4202|0.4072|0.2579|0.7474|AFR|||||3.469|0.086951',\n",
      "         'A|intron_variant|MODIFIER|RPIA|22934|Transcript|NM_144563.2|protein_coding||2/8|NM_144563.2:c.347-51G>A|||||||rs1158603|1||1||1|EntrezGene|10297|YES|||||||RefSeq|G|G|||||0.4688|0.4267|0.7219|0.5319|0.3641|0.3355|0.4348|0.4202|0.4072|0.2579|0.7474|AFR|||||3.469|0.086951'],\n",
      " 'DP': 175,\n",
      " 'DP4': [51, 46, 47, 28],\n",
      " 'FQ': 225.0,\n",
      " 'FUNC': ['intronic'],\n",
      " 'G5': True,\n",
      " 'G5A': True,\n",
      " 'GCF': True,\n",
      " 'GENEINFO': 'RPIA:22934',\n",
      " 'GMAF': 0.489488117001828,\n",
      " 'GNO': True,\n",
      " 'HD': True,\n",
      " 'INTGENE': ['RPIA'],\n",
      " 'INTSTRAND': ['+'],\n",
      " 'INTTRANS': ['uc002ste.3'],\n",
      " 'KGPilot123': True,\n",
      " 'MED': 40,\n",
      " 'MQ': 60,\n",
      " 'PH2': True,\n",
      " 'PV4': [0.22, 1.0, 1.0, 1.0],\n",
      " 'RSPOS': 88999476,\n",
      " 'RV': True,\n",
      " 'SAO': 0,\n",
      " 'SF': 0.38,\n",
      " 'SLO': True,\n",
      " 'SSR': 0,\n",
      " 'VC': 'SNV',\n",
      " 'VDB': 0.0345,\n",
      " 'VLD': True,\n",
      " 'VP': 0.44,\n",
      " 'WGT': 0,\n",
      " 'dbSNPBuildID': 87}\n"
     ]
    }
   ],
   "source": [
    "pprint.pprint(record.INFO)"
   ]
  },
  {
   "cell_type": "code",
   "execution_count": 153,
   "metadata": {},
   "outputs": [],
   "source": []
  },
  {
   "cell_type": "code",
   "execution_count": 10,
   "metadata": {},
   "outputs": [
    {
     "name": "stdout",
     "output_type": "stream",
     "text": [
      "chr2\t89157282\trs232229\tT\tA\t188.0\t.\tAC1=1;AF1=0.5;DP4=0,15,1,22;DP=38;FQ=138;FUNC=noncoding,intronic;G5;GMAF=0.244972577696527;GNO;HD;INTGENE=Ig kappa,abParts;INTSTRAND=-,-;INTTRANS=uc002stj.1,uc031rol.1;KGPilot123;MED=40;MQ=60;NCGENE=AK128525;NCSTRAND=-;NCTRANS=uc002sti.2;PH2;PV4=1,0.25,1,1;RSPOS=89157282;RV;SAO=0;SF=0.04;SLO;SSR=0;VC=SNV;VDB=0.0322;VLD;VP=0.61;WGT=0;dbSNPBuildID=79\tGT:PL:DP:SP:GQ\t0/1:218,0,165:38:0:99\n"
     ]
    }
   ],
   "source": [
    "hide = True\n",
    "for x in vcf_reader.reader:\n",
    "    if hide:\n",
    "        print(x)\n",
    "        break\n",
    "    if x.startswith('chr2\\t88999476'):\n",
    "        hide = True"
   ]
  },
  {
   "cell_type": "code",
   "execution_count": null,
   "metadata": {},
   "outputs": [],
   "source": []
  }
 ],
 "metadata": {
  "kernelspec": {
   "display_name": "Python 3",
   "language": "python",
   "name": "python3"
  },
  "language_info": {
   "codemirror_mode": {
    "name": "ipython",
    "version": 3
   },
   "file_extension": ".py",
   "mimetype": "text/x-python",
   "name": "python",
   "nbconvert_exporter": "python",
   "pygments_lexer": "ipython3",
   "version": "3.6.8"
  }
 },
 "nbformat": 4,
 "nbformat_minor": 2
}
